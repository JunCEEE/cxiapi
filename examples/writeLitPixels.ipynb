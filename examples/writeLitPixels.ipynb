{
 "cells": [
  {
   "cell_type": "code",
   "execution_count": 1,
   "id": "b972396b",
   "metadata": {},
   "outputs": [],
   "source": [
    "import numpy as np\n",
    "from pathlib import Path\n",
    "import sys\n",
    "from timeit import default_timer as timer\n",
    "from argparse import ArgumentParser\n",
    "from cxiapi import cxiData\n",
    "from cxiapi.litPixelsAnalyzer import litPixelsAnalyzer"
   ]
  },
  {
   "cell_type": "code",
   "execution_count": 2,
   "id": "019bbf91",
   "metadata": {},
   "outputs": [],
   "source": [
    "# Experiment run number.\n",
    "runs = [366]\n",
    "# Hitfinding on which module.\n",
    "module = 15\n",
    "# Number of CPU processes to use, '0' means using all.\n",
    "nproc = 0\n",
    "# The folder of cxi files\n",
    "cxi_folder = '/gpfs/exfel/u/scratch/SPB/202130/p900201/spi-comission/vds/'\n",
    "# Cheetah files folder for calibration\n",
    "calib_folder = '/gpfs/exfel/exp/SPB/202130/p900201/usr/Software/calib/r0361-r0362-r0363/'"
   ]
  },
  {
   "cell_type": "code",
   "execution_count": 3,
   "id": "fa86b65a",
   "metadata": {},
   "outputs": [
    {
     "name": "stdout",
     "output_type": "stream",
     "text": [
      "run: 366\n",
      "hitfinding with module 15\n",
      "\n",
      "VDS file contains 62304 shots\n",
      "Module 0 contains 352 cells\n",
      "16 calibration files found\n",
      "VDS file: /gpfs/exfel/u/scratch/SPB/202130/p900201/spi-comission/vds/r0366.cxi\n",
      "Calculating number of lit pixels for 58233 frames\n",
      "Using 72 processes\n",
      "Doing 1 chunks of 4096 frames each\n"
     ]
    },
    {
     "name": "stderr",
     "output_type": "stream",
     "text": [
      "  0%|          | 0/72 [00:00<?, ?it/s](0001/0001) 808 frames in 77.5352 s (750.32 Hz)\n",
      "100%|██████████| 72/72 [01:58<00:00,  1.65s/it] "
     ]
    },
    {
     "name": "stdout",
     "output_type": "stream",
     "text": [
      "Writting to r0366_hits.h5\n",
      "Writting to r0366_hits.h5 done\n",
      "getLitPixels: 120.20 s elapsed\n",
      "Run 0366 done: 120.33 s elapsed\n"
     ]
    },
    {
     "name": "stderr",
     "output_type": "stream",
     "text": [
      "\n"
     ]
    }
   ],
   "source": [
    "for run in runs:\n",
    "    print(f'run: {run}')\n",
    "    print(f'hitfinding with module {module}\\n')\n",
    "    \n",
    "    start = timer()\n",
    "    cxi_path = Path(cxi_folder, f'r{run:04}.cxi')\n",
    "    fn = str(cxi_path)\n",
    "    with cxiData(fn, verbose=1, debug=0) as cxi:\n",
    "        pulse = np.arange(0, 352)\n",
    "        base_pulse_filter = np.ones(600, dtype=\"bool\")\n",
    "        base_pulse_filter[len(pulse):] = False\n",
    "        base_pulse_filter[0] = False\n",
    "        base_pulse_filter[18::32] = False\n",
    "        base_pulse_filter[29::32] = False\n",
    "        good_cells = pulse[base_pulse_filter[:len(pulse)]]\n",
    "        cxi.setGoodCells(good_cells)\n",
    "\n",
    "        cxi.setCalib(\n",
    "            calib_folder\n",
    "        )\n",
    "        cxi.setGeom()\n",
    "\n",
    "        start_litpixel = timer()\n",
    "        analyzer = litPixelsAnalyzer(cxi, verbose=1)\n",
    "        analyzer.getLitPixels(module, nproc=nproc)\n",
    "        analyzer.writeLitPixels()\n",
    "        end = timer()\n",
    "        print('getLitPixels: {:.2f} s elapsed'.format(end - start_litpixel))\n",
    "    end = timer()\n",
    "    print('Run {:04} done: {:.2f} s elapsed'.format(run, end - start))"
   ]
  }
 ],
 "metadata": {
  "kernelspec": {
   "display_name": "xfel",
   "language": "python",
   "name": "xfel"
  },
  "language_info": {
   "codemirror_mode": {
    "name": "ipython",
    "version": 3
   },
   "file_extension": ".py",
   "mimetype": "text/x-python",
   "name": "python",
   "nbconvert_exporter": "python",
   "pygments_lexer": "ipython3",
   "version": "3.7.3"
  }
 },
 "nbformat": 4,
 "nbformat_minor": 5
}
