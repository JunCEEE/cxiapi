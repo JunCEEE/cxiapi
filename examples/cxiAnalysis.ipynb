{
 "cells": [
  {
   "cell_type": "code",
   "execution_count": null,
   "id": "f073e223-606e-4ee3-bfb1-d1ecc25c458f",
   "metadata": {},
   "outputs": [],
   "source": [
    "import numpy as np\n",
    "import h5py\n",
    "from pathlib import Path\n",
    "from extra_geom import AGIPD_1MGeometry\n",
    "from cxiapi import cxiData, calibrateModule\n",
    "from cxiapi.hitAnalyzer import hitAnalyzer\n",
    "import matplotlib.pyplot as plt\n",
    "from p_tqdm import p_umap, p_map\n",
    "from functools import partial\n",
    "import multiprocessing as mp"
   ]
  },
  {
   "cell_type": "code",
   "execution_count": null,
   "id": "64730054-2e86-4c53-aa08-6fc2e5f116d0",
   "metadata": {},
   "outputs": [],
   "source": [
    "# Experiment run number.\n",
    "run = 364\n",
    "# Hitfinding on which module.\n",
    "module = 15\n",
    "# The folder of cxi files\n",
    "cxi_folder = '/gpfs/exfel/u/scratch/SPB/202130/p900201/spi-comission/vds/'\n",
    "# Cheetah files folder for calibration\n",
    "calib_folder = '/gpfs/exfel/exp/SPB/202130/p900201/usr/Software/calib/r0361-r0362-r0363/'\n",
    "# Geometry file for the detector\n",
    "geom_file = '/gpfs/exfel/exp/SPB/202130/p900201/usr/Software/geom/agipd_2696_v5.geom'"
   ]
  },
  {
   "cell_type": "code",
   "execution_count": null,
   "id": "7f1d5244-aaa2-4e1f-a57f-0d70e444fa61",
   "metadata": {},
   "outputs": [],
   "source": [
    "cxi_path = Path(cxi_folder, f'r{run:04}.cxi')\n",
    "fn = str(cxi_path)\n",
    "\n",
    "cxi = cxiData(fn, verbose=1, debug=0)\n",
    "pulse = np.arange(0, 352)\n",
    "base_pulse_filter = np.ones(600, dtype=\"bool\")\n",
    "base_pulse_filter[len(pulse):] = False\n",
    "base_pulse_filter[0] = False\n",
    "base_pulse_filter[18::32] = False\n",
    "base_pulse_filter[29::32] = False\n",
    "good_cells = pulse[base_pulse_filter[:len(pulse)]]\n",
    "cxi.setGoodCells(good_cells)\n",
    "cxi.setCalib(calib_folder)\n",
    "cxi.setGainMode(0)"
   ]
  },
  {
   "cell_type": "code",
   "execution_count": null,
   "id": "ff831233-5e0b-417b-b060-1593cb0ddc43",
   "metadata": {},
   "outputs": [],
   "source": [
    "hits_analyzer = hitAnalyzer(cxi_data = cxi, verbose=1)\n",
    "hits_analyzer.setAdu_per_photon(45)\n",
    "# ROI\n",
    "ROI = (slice(512-50,None), slice(None,51))\n",
    "hits_analyzer.setROI(ROI)\n",
    "# Mask\n",
    "mask = np.ones((512,128))\n",
    "hits_analyzer.setModuleMasks(15,mask)\n",
    "hits_analyzer.plotROI(300,15,is_transpose=True)\n",
    "plt.title('Before mask')\n",
    "\n",
    "mask[470:473,15:18] = 0\n",
    "hits_analyzer.setModuleMasks(15,mask)\n",
    "hits_analyzer.plotROI(300,15,is_transpose=True)\n",
    "plt.title('After mask')"
   ]
  },
  {
   "cell_type": "code",
   "execution_count": null,
   "id": "54406b40-fc9f-4326-8dd7-1fd431afaec6",
   "metadata": {},
   "outputs": [],
   "source": [
    "data = cxi.data\n",
    "good_frames = cxi.good_frames\n",
    "cell_ids = cxi.cellIDs\n",
    "module_index = 15\n",
    "intens_thresh = 5\n",
    "module_mask = hits_analyzer.module_masks[str(module_index)]\n",
    "ROI = hits_analyzer.ROI\n",
    "adu_per_photon = hits_analyzer.adu_per_photon"
   ]
  },
  {
   "cell_type": "code",
   "execution_count": null,
   "id": "3a8f9af3-e68d-4463-b65a-a649b5732cca",
   "metadata": {},
   "outputs": [],
   "source": [
    "def getHits(idx_range: list) -> list:\n",
    "    # Get the index of the hits\n",
    "    num_cpus = checkChuck(len(idx_range), chuckSize=25000)\n",
    "    print(f'Using {num_cpus} CPU cores.')\n",
    "    results = p_umap(partial(check_snapshot,module_index=15), idx_range, num_cpus=num_cpus)\n",
    "    hits_indices = list(filter((None).__ne__, results))\n",
    "    return  hits_indices\n",
    "\n",
    "def getCalibData(cxi_data, snap_idx, module_index):\n",
    "    n = snap_idx\n",
    "    data = cxi_data.data\n",
    "    cell_ids = cxi_data.cellIDs\n",
    "\n",
    "    calib_data = calibrateModule(data[n, module_index, 0, :, :],\n",
    "                                    data[n, module_index,\n",
    "                                        1, :, :], module_index,\n",
    "                                    cell_ids[n, 0], cxi_data.calib)\n",
    "    return calib_data\n",
    "\n",
    "def check_snapshot(snap_idx, module_index):\n",
    "    calib_data = getCalibData(cxi, snap_idx, module_index)\n",
    "    roi_data = calib_data[ROI]\n",
    "    nphotons = roi_data / adu_per_photon\n",
    "    nphotons[nphotons < 0.5] = 0\n",
    "    if intens_thresh < np.log(nphotons.sum()):\n",
    "        return snap_idx\n",
    "    \n",
    "def checkChuck(ntask, chuckSize):\n",
    "    num_cpu = min(mp.cpu_count(), ntask // chuckSize)\n",
    "    num_cpu = max(num_cpu, 1)\n",
    "    return num_cpu"
   ]
  },
  {
   "cell_type": "code",
   "execution_count": null,
   "id": "7c04a805-9d2a-4f76-b56b-525da8202441",
   "metadata": {},
   "outputs": [],
   "source": [
    "idx_range = cxi.good_frames\n",
    "module_index = 15\n",
    "intens_thresh = 5\n",
    "module_mask = hits_analyzer.module_masks[str(module_index)]\n",
    "ROI = hits_analyzer.ROI\n",
    "adu_per_photon = hits_analyzer.adu_per_photon\n",
    "\n",
    "# hits_indices = getHits(idx_range, module_index,\n",
    "#             intens_thresh, module_mask, ROI, adu_per_photon)\n",
    "hits_indices = getHits(idx_range)"
   ]
  }
 ],
 "metadata": {
  "kernelspec": {
   "display_name": "xfel",
   "language": "python",
   "name": "xfel"
  },
  "language_info": {
   "codemirror_mode": {
    "name": "ipython",
    "version": 3
   },
   "file_extension": ".py",
   "mimetype": "text/x-python",
   "name": "python",
   "nbconvert_exporter": "python",
   "pygments_lexer": "ipython3",
   "version": "3.7.3"
  }
 },
 "nbformat": 4,
 "nbformat_minor": 5
}
